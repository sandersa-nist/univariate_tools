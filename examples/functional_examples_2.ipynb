{
 "cells": [
  {
   "cell_type": "code",
   "execution_count": 1,
   "id": "fdb7db9c",
   "metadata": {},
   "outputs": [],
   "source": [
    "from univariate_tools import *"
   ]
  },
  {
   "cell_type": "code",
   "execution_count": 2,
   "id": "6e09cae6",
   "metadata": {},
   "outputs": [],
   "source": [
    "x_data = np.linspace(-5,5,100)"
   ]
  },
  {
   "cell_type": "code",
   "execution_count": 3,
   "id": "6590fa3c",
   "metadata": {},
   "outputs": [
    {
     "data": {
      "text/plain": [
       "[<matplotlib.lines.Line2D at 0x276f8dacf50>]"
      ]
     },
     "execution_count": 3,
     "metadata": {},
     "output_type": "execute_result"
    },
    {
     "data": {
      "image/png": "[encoded data removed]",
      "text/plain": [
       "<Figure size 640x480 with 1 Axes>"
      ]
     },
     "metadata": {},
     "output_type": "display_data"
    }
   ],
   "source": [
    "model = FunctionalModel(parameters = [\"a\",\"b\"],variables =[\"x\"],equation=\"a*besselj(1,b*x)\")\n",
    "model.set_parameters({\"a\":1,\"b\":2})\n",
    "plt.plot(x_data,model(x_data))"
   ]
  },
  {
   "cell_type": "code",
   "execution_count": 4,
   "id": "f52f4c32",
   "metadata": {},
   "outputs": [],
   "source": [
    "bd = model.d(order=2)"
   ]
  },
  {
   "cell_type": "code",
   "execution_count": 5,
   "id": "14e8bce8",
   "metadata": {},
   "outputs": [
    {
     "data": {
      "text/latex": [
       "$\\displaystyle a b \\left(- \\frac{b \\left(\\frac{J_{1}\\left(b x\\right)}{2} - \\frac{J_{3}\\left(b x\\right)}{2}\\right)}{2} - \\frac{b J_{1}\\left(b x\\right)}{2}\\right)$"
      ],
      "text/plain": [
       "a*b*(-b*(besselj(1, b*x)/2 - besselj(3, b*x)/2)/2 - b*besselj(1, b*x)/2)"
      ]
     },
     "execution_count": 5,
     "metadata": {},
     "output_type": "execute_result"
    }
   ],
   "source": [
    "bd.equation"
   ]
  },
  {
   "cell_type": "code",
   "execution_count": 6,
   "id": "559ca785",
   "metadata": {},
   "outputs": [],
   "source": [
    "sin = FunctionalModel(parameters = \"phi A omega f lamda\",variables=\"t x\",equation = \"A*sin(2*pi*f*t+2*pi/lamda*x+phi)\")"
   ]
  },
  {
   "cell_type": "code",
   "execution_count": 7,
   "id": "e104abe9",
   "metadata": {},
   "outputs": [
    {
     "data": {
      "text/latex": [
       "$\\displaystyle A \\sin{\\left(2 \\pi f t + \\phi + \\frac{2 \\pi x}{\\lambda} \\right)}$"
      ],
      "text/plain": [
       "A*sin(2*pi*f*t + phi + 2*pi*x/lamda)"
      ]
     },
     "execution_count": 7,
     "metadata": {},
     "output_type": "execute_result"
    }
   ],
   "source": [
    "sin.equation"
   ]
  },
  {
   "cell_type": "code",
   "execution_count": 8,
   "id": "006dcd70",
   "metadata": {},
   "outputs": [],
   "source": [
    "sin_squared = sin**2"
   ]
  },
  {
   "cell_type": "code",
   "execution_count": 9,
   "id": "55454907",
   "metadata": {},
   "outputs": [
    {
     "data": {
      "text/latex": [
       "$\\displaystyle A^{2} \\sin^{2}{\\left(2 \\pi f t + \\phi + \\frac{2 \\pi x}{\\lambda} \\right)}$"
      ],
      "text/plain": [
       "A**2*sin(2*pi*f*t + phi + 2*pi*x/lamda)**2"
      ]
     },
     "execution_count": 9,
     "metadata": {},
     "output_type": "execute_result"
    }
   ],
   "source": [
    "sin_squared.equation"
   ]
  },
  {
   "cell_type": "code",
   "execution_count": 10,
   "id": "a7478c24",
   "metadata": {},
   "outputs": [],
   "source": [
    "d_sin_squared=sin_squared.d(respect_to=\"x\")"
   ]
  },
  {
   "cell_type": "code",
   "execution_count": 11,
   "id": "273d679b",
   "metadata": {},
   "outputs": [
    {
     "data": {
      "text/latex": [
       "$\\displaystyle \\frac{4 \\pi A^{2} \\sin{\\left(2 \\pi f t + \\phi + \\frac{2 \\pi x}{\\lambda} \\right)} \\cos{\\left(2 \\pi f t + \\phi + \\frac{2 \\pi x}{\\lambda} \\right)}}{\\lambda}$"
      ],
      "text/plain": [
       "4*pi*A**2*sin(2*pi*f*t + phi + 2*pi*x/lamda)*cos(2*pi*f*t + phi + 2*pi*x/lamda)/lamda"
      ]
     },
     "execution_count": 11,
     "metadata": {},
     "output_type": "execute_result"
    }
   ],
   "source": [
    "d_sin_squared.equation"
   ]
  },
  {
   "cell_type": "code",
   "execution_count": 12,
   "id": "90286d99",
   "metadata": {},
   "outputs": [],
   "source": [
    "model = FunctionalModel(parameters = \"a\", variables=\"x\",equation=\"a*x**2/(x+1)\")"
   ]
  },
  {
   "cell_type": "code",
   "execution_count": 19,
   "id": "e713935e",
   "metadata": {},
   "outputs": [
    {
     "ename": "ValueError",
     "evalue": "Invalid limits given: ('x',)",
     "output_type": "error",
     "traceback": [
      "\u001b[31m---------------------------------------------------------------------------\u001b[39m",
      "\u001b[31mValueError\u001b[39m                                Traceback (most recent call last)",
      "\u001b[36mCell\u001b[39m\u001b[36m \u001b[39m\u001b[32mIn[19]\u001b[39m\u001b[32m, line 1\u001b[39m\n\u001b[32m----> \u001b[39m\u001b[32m1\u001b[39m im =\u001b[43msympy\u001b[49m\u001b[43m.\u001b[49m\u001b[43mintegrate\u001b[49m\u001b[43m(\u001b[49m\u001b[43mmodel\u001b[49m\u001b[43m.\u001b[49m\u001b[43mequation\u001b[49m\u001b[43m,\u001b[49m\u001b[43m(\u001b[49m\u001b[33;43m\"\u001b[39;49m\u001b[33;43mx\u001b[39;49m\u001b[33;43m\"\u001b[39;49m\u001b[43m)\u001b[49m\u001b[43m)\u001b[49m\n",
      "\u001b[36mFile \u001b[39m\u001b[32mc:\\Users\\sandersa\\.conda\\envs\\univariate_tools\\Lib\\site-packages\\sympy\\integrals\\integrals.py:1571\u001b[39m, in \u001b[36mintegrate\u001b[39m\u001b[34m(meijerg, conds, risch, heurisch, manual, *args, **kwargs)\u001b[39m\n\u001b[32m   1407\u001b[39m \u001b[38;5;250m\u001b[39m\u001b[33;03m\"\"\"integrate(f, var, ...)\u001b[39;00m\n\u001b[32m   1408\u001b[39m \n\u001b[32m   1409\u001b[39m \u001b[33;03m.. deprecated:: 1.6\u001b[39;00m\n\u001b[32m   (...)\u001b[39m\u001b[32m   1561\u001b[39m \n\u001b[32m   1562\u001b[39m \u001b[33;03m\"\"\"\u001b[39;00m\n\u001b[32m   1563\u001b[39m doit_flags = {\n\u001b[32m   1564\u001b[39m     \u001b[33m'\u001b[39m\u001b[33mdeep\u001b[39m\u001b[33m'\u001b[39m: \u001b[38;5;28;01mFalse\u001b[39;00m,\n\u001b[32m   1565\u001b[39m     \u001b[33m'\u001b[39m\u001b[33mmeijerg\u001b[39m\u001b[33m'\u001b[39m: meijerg,\n\u001b[32m   (...)\u001b[39m\u001b[32m   1569\u001b[39m     \u001b[33m'\u001b[39m\u001b[33mmanual\u001b[39m\u001b[33m'\u001b[39m: manual\n\u001b[32m   1570\u001b[39m     }\n\u001b[32m-> \u001b[39m\u001b[32m1571\u001b[39m integral = \u001b[43mIntegral\u001b[49m\u001b[43m(\u001b[49m\u001b[43m*\u001b[49m\u001b[43margs\u001b[49m\u001b[43m,\u001b[49m\u001b[43m \u001b[49m\u001b[43m*\u001b[49m\u001b[43m*\u001b[49m\u001b[43mkwargs\u001b[49m\u001b[43m)\u001b[49m\n\u001b[32m   1573\u001b[39m \u001b[38;5;28;01mif\u001b[39;00m \u001b[38;5;28misinstance\u001b[39m(integral, Integral):\n\u001b[32m   1574\u001b[39m     \u001b[38;5;28;01mreturn\u001b[39;00m integral.doit(**doit_flags)\n",
      "\u001b[36mFile \u001b[39m\u001b[32mc:\\Users\\sandersa\\.conda\\envs\\univariate_tools\\Lib\\site-packages\\sympy\\integrals\\integrals.py:97\u001b[39m, in \u001b[36mIntegral.__new__\u001b[39m\u001b[34m(cls, function, *symbols, **assumptions)\u001b[39m\n\u001b[32m     87\u001b[39m \u001b[38;5;28;01mif\u001b[39;00m \u001b[38;5;28misinstance\u001b[39m(function, Poly):\n\u001b[32m     88\u001b[39m     sympy_deprecation_warning(\n\u001b[32m     89\u001b[39m \u001b[38;5;250m        \u001b[39m\u001b[33;03m\"\"\"\u001b[39;00m\n\u001b[32m     90\u001b[39m \u001b[33;03m        integrate(Poly) and Integral(Poly) are deprecated. Instead,\u001b[39;00m\n\u001b[32m   (...)\u001b[39m\u001b[32m     94\u001b[39m         deprecated_since_version=\u001b[33m\"\u001b[39m\u001b[33m1.6\u001b[39m\u001b[33m\"\u001b[39m,\n\u001b[32m     95\u001b[39m         active_deprecations_target=\u001b[33m\"\u001b[39m\u001b[33mdeprecated-integrate-poly\u001b[39m\u001b[33m\"\u001b[39m)\n\u001b[32m---> \u001b[39m\u001b[32m97\u001b[39m obj = \u001b[43mAddWithLimits\u001b[49m\u001b[43m.\u001b[49m\u001b[34;43m__new__\u001b[39;49m\u001b[43m(\u001b[49m\u001b[38;5;28;43mcls\u001b[39;49m\u001b[43m,\u001b[49m\u001b[43m \u001b[49m\u001b[43mfunction\u001b[49m\u001b[43m,\u001b[49m\u001b[43m \u001b[49m\u001b[43m*\u001b[49m\u001b[43msymbols\u001b[49m\u001b[43m,\u001b[49m\u001b[43m \u001b[49m\u001b[43m*\u001b[49m\u001b[43m*\u001b[49m\u001b[43massumptions\u001b[49m\u001b[43m)\u001b[49m\n\u001b[32m     98\u001b[39m \u001b[38;5;28;01mreturn\u001b[39;00m obj\n",
      "\u001b[36mFile \u001b[39m\u001b[32mc:\\Users\\sandersa\\.conda\\envs\\univariate_tools\\Lib\\site-packages\\sympy\\concrete\\expr_with_limits.py:547\u001b[39m, in \u001b[36mAddWithLimits.__new__\u001b[39m\u001b[34m(cls, function, *symbols, **assumptions)\u001b[39m\n\u001b[32m    545\u001b[39m \u001b[38;5;28;01mdef\u001b[39;00m\u001b[38;5;250m \u001b[39m\u001b[34m__new__\u001b[39m(\u001b[38;5;28mcls\u001b[39m, function, *symbols, **assumptions):\n\u001b[32m    546\u001b[39m     \u001b[38;5;28;01mfrom\u001b[39;00m\u001b[38;5;250m \u001b[39m\u001b[34;01msympy\u001b[39;00m\u001b[34;01m.\u001b[39;00m\u001b[34;01mconcrete\u001b[39;00m\u001b[34;01m.\u001b[39;00m\u001b[34;01msummations\u001b[39;00m\u001b[38;5;250m \u001b[39m\u001b[38;5;28;01mimport\u001b[39;00m Sum\n\u001b[32m--> \u001b[39m\u001b[32m547\u001b[39m     pre = \u001b[43m_common_new\u001b[49m\u001b[43m(\u001b[49m\u001b[38;5;28;43mcls\u001b[39;49m\u001b[43m,\u001b[49m\u001b[43m \u001b[49m\u001b[43mfunction\u001b[49m\u001b[43m,\u001b[49m\u001b[43m \u001b[49m\u001b[43m*\u001b[49m\u001b[43msymbols\u001b[49m\u001b[43m,\u001b[49m\n\u001b[32m    548\u001b[39m \u001b[43m        \u001b[49m\u001b[43mdiscrete\u001b[49m\u001b[43m=\u001b[49m\u001b[38;5;28;43missubclass\u001b[39;49m\u001b[43m(\u001b[49m\u001b[38;5;28;43mcls\u001b[39;49m\u001b[43m,\u001b[49m\u001b[43m \u001b[49m\u001b[43mSum\u001b[49m\u001b[43m)\u001b[49m\u001b[43m,\u001b[49m\u001b[43m \u001b[49m\u001b[43m*\u001b[49m\u001b[43m*\u001b[49m\u001b[43massumptions\u001b[49m\u001b[43m)\u001b[49m\n\u001b[32m    549\u001b[39m     \u001b[38;5;28;01mif\u001b[39;00m \u001b[38;5;28misinstance\u001b[39m(pre, \u001b[38;5;28mtuple\u001b[39m):\n\u001b[32m    550\u001b[39m         function, limits, orientation = pre\n",
      "\u001b[36mFile \u001b[39m\u001b[32mc:\\Users\\sandersa\\.conda\\envs\\univariate_tools\\Lib\\site-packages\\sympy\\concrete\\expr_with_limits.py:57\u001b[39m, in \u001b[36m_common_new\u001b[39m\u001b[34m(cls, function, discrete, *symbols, **assumptions)\u001b[39m\n\u001b[32m     54\u001b[39m     \u001b[38;5;28;01mreturn\u001b[39;00m S.NaN\n\u001b[32m     56\u001b[39m \u001b[38;5;28;01mif\u001b[39;00m symbols:\n\u001b[32m---> \u001b[39m\u001b[32m57\u001b[39m     limits, orientation = \u001b[43m_process_limits\u001b[49m\u001b[43m(\u001b[49m\u001b[43m*\u001b[49m\u001b[43msymbols\u001b[49m\u001b[43m,\u001b[49m\u001b[43m \u001b[49m\u001b[43mdiscrete\u001b[49m\u001b[43m=\u001b[49m\u001b[43mdiscrete\u001b[49m\u001b[43m)\u001b[49m\n\u001b[32m     58\u001b[39m     \u001b[38;5;28;01mfor\u001b[39;00m i, li \u001b[38;5;129;01min\u001b[39;00m \u001b[38;5;28menumerate\u001b[39m(limits):\n\u001b[32m     59\u001b[39m         \u001b[38;5;28;01mif\u001b[39;00m \u001b[38;5;28mlen\u001b[39m(li) == \u001b[32m4\u001b[39m:\n",
      "\u001b[36mFile \u001b[39m\u001b[32mc:\\Users\\sandersa\\.conda\\envs\\univariate_tools\\Lib\\site-packages\\sympy\\concrete\\expr_with_limits.py:194\u001b[39m, in \u001b[36m_process_limits\u001b[39m\u001b[34m(discrete, *symbols)\u001b[39m\n\u001b[32m    191\u001b[39m                     limits.append(Tuple(newsymbol, V[\u001b[32m1\u001b[39m]))\n\u001b[32m    192\u001b[39m                     \u001b[38;5;28;01mcontinue\u001b[39;00m\n\u001b[32m--> \u001b[39m\u001b[32m194\u001b[39m     \u001b[38;5;28;01mraise\u001b[39;00m \u001b[38;5;167;01mValueError\u001b[39;00m(\u001b[33m'\u001b[39m\u001b[33mInvalid limits given: \u001b[39m\u001b[38;5;132;01m%s\u001b[39;00m\u001b[33m'\u001b[39m % \u001b[38;5;28mstr\u001b[39m(symbols))\n\u001b[32m    196\u001b[39m \u001b[38;5;28;01mreturn\u001b[39;00m limits, orientation\n",
      "\u001b[31mValueError\u001b[39m: Invalid limits given: ('x',)"
     ]
    }
   ],
   "source": [
    "im =sympy.integrate(model.equation,(\"x\"))"
   ]
  },
  {
   "cell_type": "code",
   "execution_count": 18,
   "id": "c779ab24",
   "metadata": {},
   "outputs": [
    {
     "data": {
      "text/latex": [
       "$\\displaystyle a \\left(- \\frac{1}{2} + \\log{\\left(2 \\right)}\\right)$"
      ],
      "text/plain": [
       "a*(-1/2 + log(2))"
      ]
     },
     "execution_count": 18,
     "metadata": {},
     "output_type": "execute_result"
    }
   ],
   "source": [
    "im"
   ]
  },
  {
   "cell_type": "code",
   "execution_count": 20,
   "id": "04ad93b6",
   "metadata": {},
   "outputs": [
    {
     "data": {
      "text/latex": [
       "$\\displaystyle \\frac{a x^{2}}{x + 1}$"
      ],
      "text/plain": [
       "a*x**2/(x + 1)"
      ]
     },
     "execution_count": 20,
     "metadata": {},
     "output_type": "execute_result"
    }
   ],
   "source": [
    "model.equation"
   ]
  },
  {
   "cell_type": "markdown",
   "id": "7d942142",
   "metadata": {},
   "source": []
  }
 ],
 "metadata": {
  "kernelspec": {
   "display_name": "Python 3",
   "language": "python",
   "name": "python3"
  },
  "language_info": {
   "codemirror_mode": {
    "name": "ipython",
    "version": 3
   },
   "file_extension": ".py",
   "mimetype": "text/x-python",
   "name": "python",
   "nbconvert_exporter": "python",
   "pygments_lexer": "ipython3",
   "version": "3.13.2"
  }
 },
 "nbformat": 4,
 "nbformat_minor": 5
}
