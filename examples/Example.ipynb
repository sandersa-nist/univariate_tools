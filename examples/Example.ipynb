{
 "cells": [
  {
   "cell_type": "markdown",
   "id": "bc1da5a7",
   "metadata": {},
   "source": [
    "# Fitting Function Models\n",
    "A functional model allows for the creation of data, fitting of experimental data, plotting and symbolic manipulation of mathematical models based on functions. This includes symbolic intergration, differentiation and algebra. This module requires sympy and numpy to work. "
   ]
  },
  {
   "cell_type": "code",
   "execution_count": 1,
   "id": "0924a2bf",
   "metadata": {},
   "outputs": [],
   "source": [
    "from univariate_tools import *\n",
    "import matplotlib.pyplot as plt\n",
    "import random"
   ]
  },
  {
   "cell_type": "markdown",
   "id": "ad6f6614",
   "metadata": {},
   "source": [
    "## Creation of a new functional model\n",
    "1. Pass parameters as a list or a string separated by spaces\n",
    "2. Pass variables as a list or a string seperated by spaces\n",
    "3. Pass an equation that sympy understands "
   ]
  },
  {
   "cell_type": "code",
   "execution_count": 2,
   "id": "d3fa2913",
   "metadata": {},
   "outputs": [],
   "source": [
    "line=FunctionalModel(parameters=[\"m\",\"b\"],variables=\"x\",equation=\"m*x+b\")"
   ]
  },
  {
   "cell_type": "code",
   "execution_count": null,
   "id": "a0d2b597",
   "metadata": {},
   "outputs": [],
   "source": []
  }
 ],
 "metadata": {
  "kernelspec": {
   "display_name": "Python 3",
   "language": "python",
   "name": "python3"
  },
  "language_info": {
   "codemirror_mode": {
    "name": "ipython",
    "version": 3
   },
   "file_extension": ".py",
   "mimetype": "text/x-python",
   "name": "python",
   "nbconvert_exporter": "python",
   "pygments_lexer": "ipython3",
   "version": "3.13.2"
  }
 },
 "nbformat": 4,
 "nbformat_minor": 5
}
